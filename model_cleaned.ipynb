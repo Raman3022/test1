{
  "cells": [
    {
      "cell_type": "markdown",
      "metadata": {
        "id": "WshfsRgbvyPr"
      },
      "source": [
        "**AI Image Generator with Stable Diffusion**\n",
        "\n",
        "\n",
        "This is a simple and powerful AI image generation web app built using Hugging Face's diffusers library and deployed on Gradio + Hugging Face Spaces.\n",
        "\n",
        "It uses **Stable Diffusion v1.5** to generate* high-quality images *from text prompts given by the user.\n",
        "\n",
        "-------------------------------------------------------------------------\n",
        "\n",
        " **Features**\n",
        "\n",
        " Text-to-Image generation using Stable Diffusion\n",
        "\n",
        " Clean and simple web interface via Gradio\n",
        "\n",
        " Fast image generation with GPU support (CUDA)\n",
        "\n",
        " Fully deployable and shareable via Hugging Face Spaces\n",
        "\n",
        " ------------------------------------------------------------------------\n",
        "\n",
        " **Demo**\n",
        "\n",
        " Try it here: https://<your-space-name>.huggingface.space\n",
        "(Replace with your actual Hugging Face Space URL)\n",
        "\n",
        " How It Works\n",
        "User enters a text prompt (e.g., \"a cat sitting on the moon\").\n",
        "\n",
        "The backend runs Stable Diffusion to convert text into an image.\n",
        "\n",
        "The output image is displayed on the web interface in seconds.\n",
        "\n",
        " Requirements\n",
        "These packages are required (also saved in requirements.txt):\n",
        "\n",
        "\n",
        "1.   Txt\n",
        "2.   Copy\n",
        "3.   Edit\n",
        "4.   Diffusers\n",
        "5.   Transformers\n",
        "6.   Accelerate\n",
        "7.   Safetensors\n",
        "8.   Torch\n",
        "9.   Gradio\n"
      ]
    },
    {
      "cell_type": "markdown",
      "metadata": {
        "id": "EvuJgxcT0ceK"
      },
      "source": [
        "\n",
        "\n",
        "-------------------------------------------------------------------------\n",
        "\n"
      ]
    },
    {
      "cell_type": "markdown",
      "metadata": {
        "id": "JsTvrbZst1E6"
      },
      "source": [
        "**Step 1:** Installed and upgraded key HuggingFace libraries italicized text upgraded key HuggingFace libraries\n",
        "\n",
        "\n",
        "1.  Diffusers\n",
        "2.  Transformers\n",
        "\n",
        "Transformers\n",
        "Accelerate\n",
        "Safetensors -to enable use of text generation, text-to-image generation, and fast model execution with secure and efficient model weight loading."
      ]
    },
    {
      "cell_type": "code",
      "execution_count": 1,
      "metadata": {
        "colab": {
          "base_uri": "https://localhost:8080/"
        },
        "id": "yHBED87ABzu8",
        "outputId": "b6bf8906-617e-4225-f8df-92a40b4ca948"
      },
      "outputs": [
        {
          "name": "stdout",
          "output_type": "stream",
          "text": [
            "Collecting diffusers\n",
            "  Downloading diffusers-0.34.0-py3-none-any.whl.metadata (20 kB)\n",
            "Requirement already satisfied: transformers in c:\\users\\raman\\appdata\\local\\programs\\python\\python39\\lib\\site-packages (4.46.2)\n",
            "Collecting transformers\n",
            "  Downloading transformers-4.54.1-py3-none-any.whl.metadata (41 kB)\n",
            "Collecting accelerate\n",
            "  Downloading accelerate-1.9.0-py3-none-any.whl.metadata (19 kB)\n",
            "Requirement already satisfied: importlib_metadata in c:\\users\\raman\\appdata\\local\\programs\\python\\python39\\lib\\site-packages (from diffusers) (8.6.1)\n",
            "Requirement already satisfied: filelock in c:\\users\\raman\\appdata\\local\\programs\\python\\python39\\lib\\site-packages (from diffusers) (3.18.0)\n",
            "Requirement already satisfied: huggingface-hub>=0.27.0 in c:\\users\\raman\\appdata\\local\\programs\\python\\python39\\lib\\site-packages (from diffusers) (0.32.0)\n",
            "Requirement already satisfied: numpy in c:\\users\\raman\\appdata\\local\\programs\\python\\python39\\lib\\site-packages (from diffusers) (1.26.4)\n",
            "Requirement already satisfied: regex!=2019.12.17 in c:\\users\\raman\\appdata\\local\\programs\\python\\python39\\lib\\site-packages (from diffusers) (2024.11.6)\n",
            "Requirement already satisfied: requests in c:\\users\\raman\\appdata\\local\\programs\\python\\python39\\lib\\site-packages (from diffusers) (2.32.3)\n",
            "Requirement already satisfied: safetensors>=0.3.1 in c:\\users\\raman\\appdata\\local\\programs\\python\\python39\\lib\\site-packages (from diffusers) (0.5.3)\n",
            "Requirement already satisfied: Pillow in c:\\users\\raman\\appdata\\local\\programs\\python\\python39\\lib\\site-packages (from diffusers) (11.1.0)\n",
            "Collecting huggingface-hub>=0.27.0 (from diffusers)\n",
            "  Downloading huggingface_hub-0.34.3-py3-none-any.whl.metadata (14 kB)\n",
            "Requirement already satisfied: packaging>=20.0 in c:\\users\\raman\\appdata\\local\\programs\\python\\python39\\lib\\site-packages (from transformers) (24.2)\n",
            "Requirement already satisfied: pyyaml>=5.1 in c:\\users\\raman\\appdata\\local\\programs\\python\\python39\\lib\\site-packages (from transformers) (6.0.2)\n",
            "Collecting tokenizers<0.22,>=0.21 (from transformers)\n",
            "  Downloading tokenizers-0.21.4-cp39-abi3-win_amd64.whl.metadata (6.9 kB)\n",
            "Requirement already satisfied: tqdm>=4.27 in c:\\users\\raman\\appdata\\local\\programs\\python\\python39\\lib\\site-packages (from transformers) (4.67.1)\n",
            "Requirement already satisfied: psutil in c:\\users\\raman\\appdata\\local\\programs\\python\\python39\\lib\\site-packages (from accelerate) (7.0.0)\n",
            "Requirement already satisfied: torch>=2.0.0 in c:\\users\\raman\\appdata\\local\\programs\\python\\python39\\lib\\site-packages (from accelerate) (2.6.0)\n",
            "Requirement already satisfied: fsspec>=2023.5.0 in c:\\users\\raman\\appdata\\local\\programs\\python\\python39\\lib\\site-packages (from huggingface-hub>=0.27.0->diffusers) (2025.3.0)\n",
            "Requirement already satisfied: typing-extensions>=3.7.4.3 in c:\\users\\raman\\appdata\\local\\programs\\python\\python39\\lib\\site-packages (from huggingface-hub>=0.27.0->diffusers) (4.12.2)\n",
            "Requirement already satisfied: networkx in c:\\users\\raman\\appdata\\local\\programs\\python\\python39\\lib\\site-packages (from torch>=2.0.0->accelerate) (3.2.1)\n",
            "Requirement already satisfied: jinja2 in c:\\users\\raman\\appdata\\local\\programs\\python\\python39\\lib\\site-packages (from torch>=2.0.0->accelerate) (3.1.6)\n",
            "Requirement already satisfied: sympy==1.13.1 in c:\\users\\raman\\appdata\\local\\programs\\python\\python39\\lib\\site-packages (from torch>=2.0.0->accelerate) (1.13.1)\n",
            "Requirement already satisfied: mpmath<1.4,>=1.1.0 in c:\\users\\raman\\appdata\\local\\programs\\python\\python39\\lib\\site-packages (from sympy==1.13.1->torch>=2.0.0->accelerate) (1.3.0)\n",
            "Requirement already satisfied: colorama in c:\\users\\raman\\appdata\\local\\programs\\python\\python39\\lib\\site-packages (from tqdm>=4.27->transformers) (0.4.6)\n",
            "Requirement already satisfied: zipp>=3.20 in c:\\users\\raman\\appdata\\local\\programs\\python\\python39\\lib\\site-packages (from importlib_metadata->diffusers) (3.21.0)\n",
            "Requirement already satisfied: charset-normalizer<4,>=2 in c:\\users\\raman\\appdata\\local\\programs\\python\\python39\\lib\\site-packages (from requests->diffusers) (3.4.1)\n",
            "Requirement already satisfied: idna<4,>=2.5 in c:\\users\\raman\\appdata\\local\\programs\\python\\python39\\lib\\site-packages (from requests->diffusers) (3.10)\n",
            "Requirement already satisfied: urllib3<3,>=1.21.1 in c:\\users\\raman\\appdata\\local\\programs\\python\\python39\\lib\\site-packages (from requests->diffusers) (2.3.0)\n",
            "Requirement already satisfied: certifi>=2017.4.17 in c:\\users\\raman\\appdata\\local\\programs\\python\\python39\\lib\\site-packages (from requests->diffusers) (2025.1.31)\n",
            "Requirement already satisfied: MarkupSafe>=2.0 in c:\\users\\raman\\appdata\\local\\programs\\python\\python39\\lib\\site-packages (from jinja2->torch>=2.0.0->accelerate) (3.0.2)\n",
            "Downloading diffusers-0.34.0-py3-none-any.whl (3.8 MB)\n",
            "   ---------------------------------------- 0.0/3.8 MB ? eta -:--:--\n",
            "   ---------------------------------------- 3.8/3.8 MB 22.5 MB/s eta 0:00:00\n",
            "Downloading transformers-4.54.1-py3-none-any.whl (11.2 MB)\n",
            "   ---------------------------------------- 0.0/11.2 MB ? eta -:--:--\n",
            "   -------------------- ------------------- 5.8/11.2 MB 29.3 MB/s eta 0:00:01\n",
            "   -------------------------- ------------- 7.3/11.2 MB 18.1 MB/s eta 0:00:01\n",
            "   --------------------------------- ------ 9.4/11.2 MB 15.4 MB/s eta 0:00:01\n",
            "   ---------------------------------------- 11.2/11.2 MB 14.9 MB/s eta 0:00:00\n",
            "Downloading accelerate-1.9.0-py3-none-any.whl (367 kB)\n",
            "Downloading huggingface_hub-0.34.3-py3-none-any.whl (558 kB)\n",
            "   ---------------------------------------- 0.0/558.8 kB ? eta -:--:--\n",
            "   --------------------------------------- 558.8/558.8 kB 18.5 MB/s eta 0:00:00\n",
            "Downloading tokenizers-0.21.4-cp39-abi3-win_amd64.whl (2.5 MB)\n",
            "   ---------------------------------------- 0.0/2.5 MB ? eta -:--:--\n",
            "   ---------------------------------------- 2.5/2.5 MB 35.6 MB/s eta 0:00:00\n",
            "Installing collected packages: huggingface-hub, tokenizers, diffusers, accelerate, transformers\n",
            "  Attempting uninstall: huggingface-hub\n",
            "    Found existing installation: huggingface-hub 0.32.0\n",
            "    Uninstalling huggingface-hub-0.32.0:\n",
            "      Successfully uninstalled huggingface-hub-0.32.0\n",
            "  Attempting uninstall: tokenizers\n",
            "    Found existing installation: tokenizers 0.20.3\n",
            "    Uninstalling tokenizers-0.20.3:\n",
            "      Successfully uninstalled tokenizers-0.20.3\n",
            "  Attempting uninstall: transformers\n",
            "    Found existing installation: transformers 4.46.2\n",
            "    Uninstalling transformers-4.46.2:\n",
            "      Successfully uninstalled transformers-4.46.2\n",
            "Successfully installed accelerate-1.9.0 diffusers-0.34.0 huggingface-hub-0.34.3 tokenizers-0.21.4 transformers-4.54.1\n"
          ]
        },
        {
          "name": "stderr",
          "output_type": "stream",
          "text": [
            "ERROR: pip's dependency resolver does not currently take into account all the packages that are installed. This behaviour is the source of the following dependency conflicts.\n",
            "coqui-tts 0.25.3 requires transformers<=4.46.2,>=4.43.0, but you have transformers 4.54.1 which is incompatible.\n",
            "\n",
            "[notice] A new release of pip is available: 25.0.1 -> 25.1.1\n",
            "[notice] To update, run: python.exe -m pip install --upgrade pip\n"
          ]
        },
        {
          "name": "stdout",
          "output_type": "stream",
          "text": [
            "Requirement already satisfied: safetensors in c:\\users\\raman\\appdata\\local\\programs\\python\\python39\\lib\\site-packages (0.5.3)\n"
          ]
        },
        {
          "name": "stderr",
          "output_type": "stream",
          "text": [
            "\n",
            "[notice] A new release of pip is available: 25.0.1 -> 25.1.1\n",
            "[notice] To update, run: python.exe -m pip install --upgrade pip\n"
          ]
        }
      ],
      "source": [
        "\n",
        "!pip install --upgrade diffusers transformers accelerate\n",
        "!pip install safetensors"
      ]
    },
    {
      "cell_type": "markdown",
      "metadata": {
        "id": "FTiP1pFEGJCe"
      },
      "source": [
        "----------------------------------------------------------------------------------------------------"
      ]
    },
    {
      "cell_type": "markdown",
      "metadata": {
        "id": "YSFaiDRP00Fa"
      },
      "source": [
        " **Step 2:** Login to Hugging Face\n",
        "\n",
        "*  Used a token to authenticate access to models:\n",
        "\n",
        "\n"
      ]
    },
    {
      "cell_type": "code",
      "execution_count": null,
      "metadata": {
        "id": "b46vOtysCSqn"
      },
      "outputs": [],
      "source": [
        "\n",
        "import torch\n",
        "import gradio as gr\n",
        "from diffusers import StableDiffusionPipeline\n",
        "from huggingface_hub import login"
      ]
    },
    {
      "cell_type": "markdown",
      "metadata": {
        "id": "SQoYjtogGPyl"
      },
      "source": [
        "-----------------------------------------------------------------------------------------"
      ]
    },
    {
      "cell_type": "markdown",
      "metadata": {
        "id": "7DC6kvm51OZj"
      },
      "source": [
        "**Step 3:** Load the Pretrained Model\n",
        "\n",
        "*   Used StableDiffusionPipeline from diffusers:\n",
        "\n",
        "\n",
        "\n"
      ]
    },
    {
      "cell_type": "code",
      "execution_count": null,
      "metadata": {
        "id": "Q72XjYIXCeuz"
      },
      "outputs": [],
      "source": [
        "# Step 3: Authenticate with Hugging Face\n",
        "login(\"tokenid\")"
      ]
    },
    {
      "cell_type": "markdown",
      "metadata": {
        "id": "obmLwpoTGUn-"
      },
      "source": [
        "-----------------------------------------------------------------------------------------"
      ]
    },
    {
      "cell_type": "markdown",
      "metadata": {
        "id": "mRsXBWn01dHb"
      },
      "source": [
        "**Step 4**: Generate Image from Prompt\n",
        "\n",
        "*   User inputs a text prompt, and the model generates an image\n",
        "\n",
        "\n",
        "\n"
      ]
    },
    {
      "cell_type": "code",
      "execution_count": null,
      "metadata": {
        "colab": {
          "base_uri": "https://localhost:8080/",
          "height": 685,
          "referenced_widgets": [
            "d06a0c3f34c94d478b5befe2fb69cb3c",
            "b0ad876380624524b4d54f63a9847778",
            "b90ff390cd8d4c808259a4023469c859",
            "3d1e43edaf53445b996a5a2329975d7f",
            "641a43b28eee4426bc59ac1f5f937c3d",
            "8efb9ea04fa94f718420bd6281839717",
            "394650572cfa44d0a6dad89f00304003",
            "cbdf695a6bd144f8ba1b3ede0de17459",
            "3ffd6c544ac5426384cd7a9a8a57bf42",
            "dc86895c6a5741ccbb78469254bcbbd5",
            "a6aecccb2a3141068af37136fce31aef",
            "9288a02742fa4f9baeae8171e67a9a76",
            "c38f2b4279ac4749a4c65ae033663e93",
            "72ac50ef6cd047dfbdb85e3cbd24750f",
            "4055f7f16d0f463bb0ef9581077e8226",
            "0711111349854ec88e289738faa91c62",
            "aa2acb5c033241dc96d6d203207590f3",
            "5e54bce1470244fdaf5cbff12ef92674",
            "d0070ac0d2f44965b0123251a69626bb",
            "4ba86c3cf1444e43b61ac539bc95355e",
            "a2f43a7599974eb4bd1d453318450d95",
            "0616f1de2af2466b805998e66877f6e4",
            "b10f5c2565594d7bb336a9d6ce2911b9",
            "e564018fa8f04de692e9ad5a684ed2e7",
            "1d714979c80e4b7d83e8ec68c5e507f3",
            "229ca1d1a3e64dd4872daf4429d25b3c",
            "9a2c312eadc44e48894a34bcada53950",
            "99b20e98b8d043c2b7b8880445b6d1aa",
            "1c4f5c0b6a824006848545548726e790",
            "43b146889712425591a82b083793788c",
            "92eda7f961de402e99ecd5e6033598a5",
            "5741642af0624d4998b9fcfd4a72f9e1",
            "479961078bcb45168889f9f97035019a",
            "c4f98f3435184a81817ef8710547f0ca",
            "251272f331ef4f98b75748404d187c02",
            "f26af0ddbd034ee08db44c94a951a262",
            "3394d664e6eb4237a93982c8947c58d3",
            "26c206e29f7743188719a180f940b254",
            "18a1646152284afca4f67e73677367f9",
            "14dea25fae744a66a745cebc8215366b",
            "3e017ec14a4d4aaabc86104ab0b2d654",
            "5fc3c95097d942a1bd370fc0d6237ffb",
            "e7acb3411d3d48b3be4e73025107e0b7",
            "3877830e180345bd890c42099aa3f821",
            "89b93a10d9fb4d07b85861b1f301cd46",
            "17d8f62c9baa431b96ec7b79e9da721a",
            "da989722f68449da9677760c7ee2e59f",
            "8e654ec0403f4144a2ba1394c7b4e813",
            "06d4b27a43e948e099d2d219ad565480",
            "7966dc3d3bde41178d2dc53e96cabfb1",
            "5a965066984d4f48bf025a74cad58363",
            "4e9256879263405da2366a9c8b27e8bb",
            "b99d6a28b52d4228b06006a4d95974cf",
            "64b9b98551df4f2582213ab514a161be",
            "3badf1158da948968cf853a16f0811b9",
            "9095a3dc07c341b8bb82e3745f2d478a",
            "afbd1ff2e6114f939d3d2d492879c54b",
            "896c5d6760154449a294167a16a4a0c3",
            "f834c004ad7c44708c9d4feded658114",
            "60837fb6497942dfaa7127c4af6eca70",
            "4bc6f7936a0a40baa47ff60457e1d828",
            "8d58ad0aba0c4d30add7c63a7aed36f3",
            "89eb202f790b417dbbce32bfc8e8118a",
            "d508d74bfabc452aa9ed491d8aa3c364",
            "c558bc5acdff4e42a5b0729b68c43f22",
            "5de62a03ce2e4a7abf9a78b683ae6486",
            "609acc8be53548dea13450feb8aedb6c",
            "e3ccd1050f9c48f1853f8631fd996a8d",
            "efd9b5f24f85478990a4e1eea00c6d38",
            "08b5eeaa7bc24171a98b508b9594f6fb",
            "eb5b2b0b7d124931bbe3bbee77c2ba56",
            "9687c9331f16449e9934380a338d1012",
            "8e2c315304b04f38a3912f517c1ffa59",
            "5b1068fc296b43f7adc9560e30d19010",
            "c4a6f3c6432d4b4589d120269fad3748",
            "e564625990784d58a2d0dcf91c0abb01",
            "edfb0ce6c6f3401ca8e5b2d23007b19b",
            "5d9349752ca3442a8f37b78483fe8fdc",
            "1baf375d979440528e1338ddb040e1d5",
            "2f620c211b2a45bf8be02c12bb84393a",
            "e61303ff5e4345fc9c1c70701c2ff472",
            "20ddc27be9a5483bb41de274699c67cc",
            "069f6e84a13647df8e7802ca6e999188",
            "242594a897a0477d9ceedc6bfad190c1",
            "8bd3dd077c58405493a6f87f44d4529a",
            "e9662884f05a4b928edd2a6d706826be",
            "c108a5920fe142f8b98e50a983cc1671",
            "615c955fa1aa447b84e98340f62ac850",
            "79d586ba978f46ec878d516ceab6deb7",
            "8d05f986f38f49a0aa059d7f5f0a80c5",
            "e82d611aa1bf4afd869668329c3e36a8",
            "99c534275c934255be68fd4e49e9b65a",
            "d51c22609b7f4342b71f3003771a3e91",
            "51d22f8efb9e47908c8ee484acd37e8f",
            "723a40bf4766471ba59f43c47565b743",
            "e625f6a855ff4776baad39808154fff6",
            "3cb60210fd244c8d92c9eabe78960467",
            "746bb461f4c2492c864b4f5c629e617f",
            "cd59ca2648cf40dc84768b87e7db82a0",
            "e732cb8c4eaa4e3ea0e0ca15dab7b518",
            "6c1b0867d01f4f16990ab53cef0eff62",
            "e2c2fd7972084f3bb183310aef0c193f",
            "6e31fb632b784b5e9299c10d374586e2",
            "e0e9b1b1749f430f8587db334413f59e",
            "044a7ce522e9483d9e0a2f1187de9523",
            "d1d4413d81f7439183acb0c723752685",
            "487739cb4e474e41aac14abb109fcbaf",
            "f501fcd05a57462d91a94f756a7fe102",
            "b87c33dbc8e541809047a0af197eb9da",
            "db77f64182984fdaa1e73532baf4d1b4",
            "4850d7a4e0c1463fae09985993714f0c",
            "38ddd2a28b5744c495d5b73b23d9153f",
            "af7ec80c4feb46c9ab6a69b95cd03eb9",
            "a99734900976479ca7f14f9303a945dd",
            "15e70eca7dbe4885b8b880e434737652",
            "55b8d7abba3a4ae58b260a59b5846cea",
            "ecfd7e67dd64424ca36ad5e320ae3490",
            "96123b0c82e849e1ad2fb2cfc99976dd",
            "c13262c3f3ac4d75bcef0b22b5de0e0f",
            "abf25e7231d947aca37f5c5f94051e93",
            "fb39eb17e604422aa24ffaf10f088d4c",
            "11bc4da5cc0d41f5987e5f90a0de03f6",
            "1801456bd60e4238b204e44232c97073",
            "9ce6dd7483e14ac397fe27af96a7d4cd",
            "cf62721d17ab4b3aa12020ee60baae55",
            "9a12006e6c3842fb8a69b13309b70419",
            "936a18e1c1ff4262aa3aa44c999bbb20",
            "212a548854534f578504eb953f0bff2f",
            "d60041de8cfd4a1cb1503457a6cf2ecb",
            "3aee8c226fd14496ad06e7daeaaf7767",
            "ac4e10b54ec943fab73a4235b9ff21d5",
            "8a4fddfa7833442889df9f830a87fae1",
            "506d4c599bfc4b91b21e23c2b1b33b18",
            "d947952dbdb94bd9b7c1e253fa6de5bf",
            "396b8cf484d04355a8277635b97ff469",
            "84a77b0ca44d42ae916e4bcfdbd745dc",
            "10ab7f93edeb4df5a2dfb27ed7cf7d1d",
            "283cce4969054d659f985cdab320e0e0",
            "5ce5873bcdcf4dcd8384e88ffc6e6b4c",
            "1aad0fcdcfa44e5fb14564d7c99e3bbe",
            "b620a1c863db4f72a51307089d4a9cb7",
            "397b09290ec843aba8bcc615de129acd",
            "321c418b5d0145b384093fe1ff18f89e",
            "57506fa294e244819c7c7351e7e59628",
            "e4d87867e85140e9b779e6611988b006",
            "7c23a99c2af046f2a9c10cc49733c4da",
            "fcfa868ed1514b11b7d2089a9ff82477",
            "1549046247034ac8b9f670d0639d30e5",
            "768b047988204097bfb05e449ba03be4",
            "c7fb5a8da08541c48cd3de604b7028f2",
            "6a234f93997148a1ab98e3273fed038a",
            "5a4d25a1d8e54050ac7c812714102ad4",
            "369ad60e313b4ef1ab367bc6f22c9d94",
            "84310167f4a94732bad8a1f7d33cc8fb",
            "0f501280669442359be7c0058e5583cf",
            "313075e4b1dc4d04a89830dcfd6aca2f",
            "951f428e195c4b70a70f3bfbdbd5683b",
            "d4a367b9db264f21800365d18abddb62",
            "e800d6a8e522424ba6f079bc35bf8526",
            "0234c12c7905417882a4bc447d973125",
            "c19945d1f69e4e5faec6e987d8ee0aff",
            "614e645709cb4530973b29f8f81eed99",
            "58a444671270476fbf737900da7eb159",
            "57e8649f3add40dd96aa6604889eb9f0",
            "ddee1938ff7c4acba24da46355d3956c",
            "e5745dc560de48178e0aef2d42397383",
            "7d3799246c934747a169967120dd914e",
            "eae2cd5a9a3e4326a8ca79031da53260",
            "716c47828b714f4799125207f4b2d124",
            "02ec4b82552c43dc88b612f8854bba38",
            "84036ec0607745aea4a7d17096e0035e",
            "de2ef4b415924c1a9d1cbebf25e2ab7f",
            "1eac19fe2dc64863bf16dce32473c342",
            "619f356961fd4685981cbb03e0bb6aee",
            "e40a05ceed0940de9cd6d07293ad94aa",
            "2776933c366e4f4b9bef647db5848bd8",
            "da5e6208ca634402b356312ba0f6d998",
            "20e8fb6eb30b44a78655a88eed308a6e",
            "8bf03ad30393414f9284440796fe4d3d",
            "c004e0ec90a64fdabe67bddf98dc6f7b",
            "47e80c5ed9f14276b718b025f2b5bf39",
            "f43d2a6925884408b16375b638c324fe",
            "9434538ab767464db03319ca80c93bd9",
            "2b6dfc1bfd5641c0a145b104df51ea11",
            "8fba0adbcd084190b3ded22b1691f5df",
            "398ab73aca0d4ff9851db894f7c64378",
            "4ef664b5af144509b8661fa114765795"
          ]
        },
        "id": "rAu1JzAlCmWS",
        "outputId": "ed0c94d4-26d5-4626-a6c1-54c87eea9e57"
      },
      "outputs": [
        {
          "name": "stderr",
          "output_type": "stream",
          "text": [
            "/usr/local/lib/python3.11/dist-packages/huggingface_hub/utils/_auth.py:94: UserWarning: \n",
            "The secret `HF_TOKEN` does not exist in your Colab secrets.\n",
            "To authenticate with the Hugging Face Hub, create a token in your settings tab (https://huggingface.co/settings/tokens), set it as secret in your Google Colab and restart your session.\n",
            "You will be able to reuse this secret in all of your notebooks.\n",
            "Please note that authentication is recommended but still optional to access public models or datasets.\n",
            "  warnings.warn(\n"
          ]
        },
        {
          "data": {
            "application/vnd.jupyter.widget-view+json": {
              "model_id": "d06a0c3f34c94d478b5befe2fb69cb3c",
              "version_major": 2,
              "version_minor": 0
            },
            "text/plain": [
              "model_index.json:   0%|          | 0.00/541 [00:00<?, ?B/s]"
            ]
          },
          "metadata": {},
          "output_type": "display_data"
        },
        {
          "data": {
            "application/vnd.jupyter.widget-view+json": {
              "model_id": "9288a02742fa4f9baeae8171e67a9a76",
              "version_major": 2,
              "version_minor": 0
            },
            "text/plain": [
              "Fetching 15 files:   0%|          | 0/15 [00:00<?, ?it/s]"
            ]
          },
          "metadata": {},
          "output_type": "display_data"
        },
        {
          "data": {
            "application/vnd.jupyter.widget-view+json": {
              "model_id": "b10f5c2565594d7bb336a9d6ce2911b9",
              "version_major": 2,
              "version_minor": 0
            },
            "text/plain": [
              "config.json: 0.00B [00:00, ?B/s]"
            ]
          },
          "metadata": {},
          "output_type": "display_data"
        },
        {
          "data": {
            "application/vnd.jupyter.widget-view+json": {
              "model_id": "c4f98f3435184a81817ef8710547f0ca",
              "version_major": 2,
              "version_minor": 0
            },
            "text/plain": [
              "preprocessor_config.json:   0%|          | 0.00/342 [00:00<?, ?B/s]"
            ]
          },
          "metadata": {},
          "output_type": "display_data"
        },
        {
          "data": {
            "application/vnd.jupyter.widget-view+json": {
              "model_id": "89b93a10d9fb4d07b85861b1f301cd46",
              "version_major": 2,
              "version_minor": 0
            },
            "text/plain": [
              "merges.txt: 0.00B [00:00, ?B/s]"
            ]
          },
          "metadata": {},
          "output_type": "display_data"
        },
        {
          "data": {
            "application/vnd.jupyter.widget-view+json": {
              "model_id": "9095a3dc07c341b8bb82e3745f2d478a",
              "version_major": 2,
              "version_minor": 0
            },
            "text/plain": [
              "config.json:   0%|          | 0.00/617 [00:00<?, ?B/s]"
            ]
          },
          "metadata": {},
          "output_type": "display_data"
        },
        {
          "data": {
            "application/vnd.jupyter.widget-view+json": {
              "model_id": "609acc8be53548dea13450feb8aedb6c",
              "version_major": 2,
              "version_minor": 0
            },
            "text/plain": [
              "special_tokens_map.json:   0%|          | 0.00/472 [00:00<?, ?B/s]"
            ]
          },
          "metadata": {},
          "output_type": "display_data"
        },
        {
          "data": {
            "application/vnd.jupyter.widget-view+json": {
              "model_id": "5d9349752ca3442a8f37b78483fe8fdc",
              "version_major": 2,
              "version_minor": 0
            },
            "text/plain": [
              "model.safetensors:   0%|          | 0.00/1.22G [00:00<?, ?B/s]"
            ]
          },
          "metadata": {},
          "output_type": "display_data"
        },
        {
          "data": {
            "application/vnd.jupyter.widget-view+json": {
              "model_id": "79d586ba978f46ec878d516ceab6deb7",
              "version_major": 2,
              "version_minor": 0
            },
            "text/plain": [
              "scheduler_config.json:   0%|          | 0.00/308 [00:00<?, ?B/s]"
            ]
          },
          "metadata": {},
          "output_type": "display_data"
        },
        {
          "data": {
            "application/vnd.jupyter.widget-view+json": {
              "model_id": "e732cb8c4eaa4e3ea0e0ca15dab7b518",
              "version_major": 2,
              "version_minor": 0
            },
            "text/plain": [
              "model.safetensors:   0%|          | 0.00/492M [00:00<?, ?B/s]"
            ]
          },
          "metadata": {},
          "output_type": "display_data"
        },
        {
          "data": {
            "application/vnd.jupyter.widget-view+json": {
              "model_id": "4850d7a4e0c1463fae09985993714f0c",
              "version_major": 2,
              "version_minor": 0
            },
            "text/plain": [
              "tokenizer_config.json:   0%|          | 0.00/806 [00:00<?, ?B/s]"
            ]
          },
          "metadata": {},
          "output_type": "display_data"
        },
        {
          "data": {
            "application/vnd.jupyter.widget-view+json": {
              "model_id": "11bc4da5cc0d41f5987e5f90a0de03f6",
              "version_major": 2,
              "version_minor": 0
            },
            "text/plain": [
              "vocab.json: 0.00B [00:00, ?B/s]"
            ]
          },
          "metadata": {},
          "output_type": "display_data"
        },
        {
          "data": {
            "application/vnd.jupyter.widget-view+json": {
              "model_id": "506d4c599bfc4b91b21e23c2b1b33b18",
              "version_major": 2,
              "version_minor": 0
            },
            "text/plain": [
              "config.json:   0%|          | 0.00/743 [00:00<?, ?B/s]"
            ]
          },
          "metadata": {},
          "output_type": "display_data"
        },
        {
          "data": {
            "application/vnd.jupyter.widget-view+json": {
              "model_id": "57506fa294e244819c7c7351e7e59628",
              "version_major": 2,
              "version_minor": 0
            },
            "text/plain": [
              "config.json:   0%|          | 0.00/547 [00:00<?, ?B/s]"
            ]
          },
          "metadata": {},
          "output_type": "display_data"
        },
        {
          "data": {
            "application/vnd.jupyter.widget-view+json": {
              "model_id": "0f501280669442359be7c0058e5583cf",
              "version_major": 2,
              "version_minor": 0
            },
            "text/plain": [
              "diffusion_pytorch_model.safetensors:   0%|          | 0.00/335M [00:00<?, ?B/s]"
            ]
          },
          "metadata": {},
          "output_type": "display_data"
        },
        {
          "data": {
            "application/vnd.jupyter.widget-view+json": {
              "model_id": "e5745dc560de48178e0aef2d42397383",
              "version_major": 2,
              "version_minor": 0
            },
            "text/plain": [
              "unet/diffusion_pytorch_model.safetensors:   0%|          | 0.00/3.44G [00:00<?, ?B/s]"
            ]
          },
          "metadata": {},
          "output_type": "display_data"
        },
        {
          "data": {
            "application/vnd.jupyter.widget-view+json": {
              "model_id": "da5e6208ca634402b356312ba0f6d998",
              "version_major": 2,
              "version_minor": 0
            },
            "text/plain": [
              "Loading pipeline components...:   0%|          | 0/7 [00:00<?, ?it/s]"
            ]
          },
          "metadata": {},
          "output_type": "display_data"
        }
      ],
      "source": [
        "#  Step 4: Load the pipeline\n",
        "\n",
        "pipe = StableDiffusionPipeline.from_pretrained(\n",
        "    \"runwayml/stable-diffusion-v1-5\",\n",
        "    torch_dtype=torch.float16,\n",
        "    use_safetensors=True\n",
        ")\n",
        "pipe = pipe.to(\"cuda\")\n"
      ]
    },
    {
      "cell_type": "markdown",
      "metadata": {
        "id": "nhZWR_FoGWnl"
      },
      "source": [
        "-----------------------------------------------------------------------------------------"
      ]
    },
    {
      "cell_type": "markdown",
      "metadata": {
        "id": "O_btHClz1qcz"
      },
      "source": [
        "**Step 5:** Display Image\n",
        "\n",
        "*   Displayed the image using matplotlib:\n",
        "\n",
        "\n",
        "\n"
      ]
    },
    {
      "cell_type": "code",
      "execution_count": null,
      "metadata": {
        "id": "OBxilsZxCpBZ"
      },
      "outputs": [],
      "source": [
        "def generate_image(prompt):\n",
        "    print(\" Prompt received:\", prompt)\n",
        "    try:\n",
        "        image = pipe(prompt).images[0]\n",
        "        print(\"Image generated successfully\")\n",
        "        return image\n",
        "    except Exception as e:\n",
        "        print(\" Error in generating image:\", str(e))  # Yeh sabse important line hai\n",
        "        return None"
      ]
    },
    {
      "cell_type": "markdown",
      "metadata": {
        "id": "SmdP7EZuGYOd"
      },
      "source": [
        "-----------------------------------------------------------------------------------------"
      ]
    },
    {
      "cell_type": "markdown",
      "metadata": {
        "id": "HTvvFHty2HmL"
      },
      "source": [
        "**Step 6 :** Building the Web Interface**\n",
        "      Why Gradio?\n",
        "\n",
        "*    Gradio provides a quick and easy way to create web interfaces for machine learning models.\n",
        "\n"
      ]
    },
    {
      "cell_type": "markdown",
      "metadata": {
        "id": "HO2HVZvVGgBl"
      },
      "source": []
    },
    {
      "cell_type": "markdown",
      "metadata": {
        "id": "iUVqS85cHnF9"
      },
      "source": [
        "\n",
        "\n",
        "## **Possible Challenges You May Have Faced**\n",
        "\n",
        "### 1. **Environment and Dependency Issues**\n",
        "\n",
        "* Installing heavy libraries like `diffusers`, `transformers`, `torch`, `safetensors`take time and cause version conflicts.\n",
        "* Frequent updates of Hugging Face libraries break compatibility.\n",
        "* CUDA compatibility issues during PyTorch or Stable Diffusion usage (e.g., wrong `torch_dtype` or incompatible CUDA versions).\n",
        "* Long installation times or memory overflows due to Colab RAM/VRAM limitations.\n",
        "\n",
        "---\n",
        "\n",
        "### 2. **Hugging Face Authentication Problems**\n",
        "\n",
        "* Token errors due to:\n",
        "\n",
        "  * Expired token\n",
        "  * Wrong token scope (read vs write)\n",
        "  * Using `login()` in the wrong order or without internet access\n",
        "\n",
        "---\n",
        "\n",
        "### 3. **Model Loading Errors**\n",
        "\n",
        "* Issues with `StableDiffusionPipeline`:\n",
        "\n",
        "  * `use_safetensors=True` but the model doesn\u2019t support it\n",
        "  * `torch_dtype=torch.float16` not supported on CPU\n",
        "  * Colab free tier  not have GPU available, which can cause the pipeline to crash or be slow\n",
        "\n",
        "---\n",
        "\n",
        "### 4. **Image Generation Failures**\n",
        "\n",
        "* Prompt too long or too short causing `pipe(prompt).images[0]` to fail\n",
        "* Timeout due to GPU overload or slow Hugging Face response\n",
        "* Output not returned as expected \u2014 resulting in corrupted or blank images\n",
        "\n",
        "---\n",
        "\n",
        "### 5. **Debugging and Exception Handling**\n",
        "\n",
        "* Lack of detailed error messages makes debugging harder\n",
        "* Your `try/except` block is good, but adding full tracebacks could improve diagnostics\n",
        "\n",
        "---\n",
        "\n",
        "### 6. **Gradio Deployment Challenges**\n",
        "\n",
        "* Internet issues during `demo.launch(share=True)` can cause interface failures\n",
        "* Gradio UI may lag in Colab environments\n",
        "* Colab runtime disconnects or times out frequently\n",
        "* Deploying to Hugging Face Spaces requires additional setup: GitHub integration, model card, etc.\n",
        "\n",
        "---\n",
        "\n",
        "### 7. **Hardware Limitations (Colab)**\n",
        "\n",
        "* Free GPU quota exceeded message\n",
        "* Out-of-memory error during image generation with high-resolution prompts\n",
        "* Colab shuts down runtime due to inactivity if testing takes too long\n",
        "\n",
        "---\n",
        "\n",
        "### 8. **Performance and Usability Gaps**\n",
        "\n",
        "* No visual feedback (like a progress bar) during image generation\n",
        "* No input validation \u2014 blank or broken prompt may crash the pipeline\n",
        "* Output image display lacks metadata, download options, or customization\n",
        "\n",
        "---\n",
        "\n",
        "### 9. **Security and Safety Concerns**\n",
        "\n",
        "* Hardcoded Hugging Face access token is visible in your notebook \u2014 this is a security vulnerability\n",
        "* The app allows open-ended text input, which could be misused for inappropriate prompt generation\n",
        "* If `safety_checker=None` is used, NSFW content may be generated\n",
        "\n",
        "---\n",
        "\n",
        "### 10. **Missing Functional Enhancements**\n",
        "\n",
        "* No prompt history or way to store previously generated images\n",
        "* No control over resolution, number of images, or visual style\n",
        "* No download/save option for the generated image\n",
        "\n",
        "---\n",
        "\n",
        "## **Suggested Enhancements**\n",
        "\n",
        "| Area           | Suggestion                                               |\n",
        "| -------------- | -------------------------------------------------------- |\n",
        "| Token handling | Use `getpass.getpass()` to hide token input              |\n",
        "| Prompt control | Add input validation and length limits                   |\n",
        "| Image options  | Allow multiple image generation and resolution control   |\n",
        "| Output UI      | Add a download button for the generated image            |\n",
        "| Safety         | Enable a basic NSFW filter and remove unsafe parameters  |\n",
        "| Deployment     | Prepare Hugging Face Space with `app.py` and `README.md` |\n",
        "\n",
        "---\n",
        "\n"
      ]
    },
    {
      "cell_type": "markdown",
      "metadata": {
        "id": "9SVzm3_9cPqb"
      },
      "source": []
    }
  ],
  "metadata": {
    "accelerator": "GPU",
    "colab": {
      "gpuType": "T4",
      "provenance": []
    },
    "kernelspec": {
      "display_name": "Python 3",
      "name": "python3"
    },
    "language_info": {
      "codemirror_mode": {
        "name": "ipython",
        "version": 3
      },
      "file_extension": ".py",
      "mimetype": "text/x-python",
      "name": "python",
      "nbconvert_exporter": "python",
      "pygments_lexer": "ipython3",
      "version": "3.9.13"
    }
  },
  "nbformat": 4,
  "nbformat_minor": 0
}